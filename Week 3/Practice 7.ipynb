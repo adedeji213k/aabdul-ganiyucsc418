{
 "cells": [
  {
   "cell_type": "code",
   "execution_count": null,
   "id": "20f31f5d-ca73-4ec9-b7b1-d5e8c9d87df8",
   "metadata": {},
   "outputs": [],
   "source": [
    "# importing libraries\n",
    "import cv2\n",
    "\n",
    "image = cv2.imread('img/sst.jpg')\n",
    "\n",
    "cv2.imshow('Original Image', image)\n",
    "cv2.waitKey(0)\n",
    "\n",
    "# Gaussian Blur\n",
    "Gaussian = cv2.GaussianBlur(image, (7, 7), 0)\n",
    "\n",
    "cv2.imshow('Gaussian Blurring', Gaussian)\n",
    "cv2.waitKey(0)\n",
    "\n",
    "# Median Blur\n",
    "median = cv2.medianBlur(image, 5)\n",
    "\n",
    "cv2.imshow('Median Blurring', median)\n",
    "cv2.waitKey(0)\n",
    "\n",
    "# Bilateral Blur\n",
    "bilateral = cv2.bilateralFilter(image, 9, 75, 75)\n",
    "\n",
    "cv2.imshow('Bilateral Blurring', bilateral)\n",
    "cv2.waitKey(0)\n",
    "\n",
    "cv2.destroyAllWindows()"
   ]
  },
  {
   "cell_type": "code",
   "execution_count": null,
   "id": "7480a790-7a07-4770-9e47-16e22f4b5d65",
   "metadata": {},
   "outputs": [],
   "source": []
  }
 ],
 "metadata": {
  "kernelspec": {
   "display_name": "Python 3 (ipykernel)",
   "language": "python",
   "name": "python3"
  },
  "language_info": {
   "codemirror_mode": {
    "name": "ipython",
    "version": 3
   },
   "file_extension": ".py",
   "mimetype": "text/x-python",
   "name": "python",
   "nbconvert_exporter": "python",
   "pygments_lexer": "ipython3",
   "version": "3.12.7"
  }
 },
 "nbformat": 4,
 "nbformat_minor": 5
}
