{
 "cells": [
  {
   "cell_type": "code",
   "execution_count": null,
   "id": "0876b90d-73a5-4664-83ce-5a277b3f1d8f",
   "metadata": {},
   "outputs": [],
   "source": [
    "import numpy as np\n",
    "import matplotlib.pyplot as plt\n",
    "import cv2 as cv\n",
    "\n",
    "img = cv.imread('img/sst.jpg', 0)\n",
    "\n",
    "# Plot the original image\n",
    "plt.subplot(1, 2, 1)\n",
    "plt.title(\"Original\")\n",
    "plt.imshow(img)\n",
    "\n",
    "rows, cols = img.shape\n",
    "M = np.float32([[1, 0, 0], [0, -1, rows], [0, 0, 1]])\n",
    "reflected_img = cv.warpPerspective(img, M, (int(cols), int(rows)))\n",
    "\n",
    "# Plot the reflected image\n",
    "plt.subplot(1, 2, 2)\n",
    "plt.title(\"Reflected Image\")\n",
    "plt.imshow(reflected_img)\n",
    "\n",
    "cv.imwrite('reflection_out.jpg', reflected_img)\n",
    "cv.waitKey(0)\n",
    "cv.destroyAllWindows()"
   ]
  }
 ],
 "metadata": {
  "kernelspec": {
   "display_name": "Python 3 (ipykernel)",
   "language": "python",
   "name": "python3"
  },
  "language_info": {
   "codemirror_mode": {
    "name": "ipython",
    "version": 3
   },
   "file_extension": ".py",
   "mimetype": "text/x-python",
   "name": "python",
   "nbconvert_exporter": "python",
   "pygments_lexer": "ipython3",
   "version": "3.12.7"
  }
 },
 "nbformat": 4,
 "nbformat_minor": 5
}
