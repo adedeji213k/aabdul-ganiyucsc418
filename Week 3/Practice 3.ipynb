{
 "cells": [
  {
   "cell_type": "code",
   "execution_count": null,
   "id": "e6ff94b2-82a2-4a5f-8f69-90c9d75a5490",
   "metadata": {},
   "outputs": [],
   "source": [
    "import numpy as np\n",
    "import matplotlib.pyplot as plt\n",
    "import cv2 as cv\n",
    "\n",
    "img = cv.imread('img/sst.jpg', 0)\n",
    "rows, cols = img.shape\n",
    "\n",
    "#Plot the original image\n",
    "plt.subplot(1, 2, 1)\n",
    "plt.title(\"Original\")\n",
    "plt.imshow(img)\n",
    "\n",
    "img_rotation = cv.warpAffine(img, \n",
    "                            cv.getRotationMatrix2D((cols/2, rows/2),\n",
    "                                                   30, 0.6), (cols, rows))\n",
    "\n",
    "#Plot the rotated image\n",
    "plt.subplot(1, 2, 2)\n",
    "plt.title(\"Rotated Image\")\n",
    "plt.imshow(img_rotation)\n",
    "\n",
    "cv.imshow('img', img_rotation)\n",
    "cv.imwrite('rotation_out.jpg', img_rotation)\n",
    "cv.waitKey(0)\n",
    "cv.destroyAllWindows()"
   ]
  },
  {
   "cell_type": "code",
   "execution_count": null,
   "id": "b787d41b-acc8-4e8a-9de9-2501c68c5a6c",
   "metadata": {},
   "outputs": [],
   "source": []
  }
 ],
 "metadata": {
  "kernelspec": {
   "display_name": "Python 3 (ipykernel)",
   "language": "python",
   "name": "python3"
  },
  "language_info": {
   "codemirror_mode": {
    "name": "ipython",
    "version": 3
   },
   "file_extension": ".py",
   "mimetype": "text/x-python",
   "name": "python",
   "nbconvert_exporter": "python",
   "pygments_lexer": "ipython3",
   "version": "3.12.7"
  }
 },
 "nbformat": 4,
 "nbformat_minor": 5
}
