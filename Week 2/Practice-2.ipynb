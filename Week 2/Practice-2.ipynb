{
 "cells": [
  {
   "cell_type": "code",
   "execution_count": null,
   "id": "d7534aa2-9529-4f45-8524-a1c81ccca50c",
   "metadata": {},
   "outputs": [],
   "source": [
    "# A program to illustrate arithmetic operation of addition\n",
    "\n",
    "# organizing imports\n",
    "import cv2\n",
    "\n",
    "# path to input images\n",
    "image1 = cv2.imread('img/sst.jpg')\n",
    "image2 = cv2.imread('img/sst-foyer.jpg')\n",
    "\n",
    "# resize images\n",
    "image1 = cv2.resize(image1, (500,400))\n",
    "image2 = cv2.resize(image2, (500,400))\n",
    "\n",
    "# cv2.addWeighted with applied parameters\n",
    "addImage = cv2.addWeighted(image1, 0.5, image2, 0.6, 0)\n",
    "\n",
    "# sub = cv2.subtract(image1, image2)\n",
    "\n",
    "# window showing output image\n",
    "cv2.imshow('Weighted Image', addImage)\n",
    "\n",
    "# De-allocate any associated memory usage\n",
    "if cv2.waitKey(0) & 0xff == 27:\n",
    "    cv2.destroyAllWindows()"
   ]
  },
  {
   "cell_type": "code",
   "execution_count": null,
   "id": "fa405798-d178-479e-a8ed-4b5a7adfe985",
   "metadata": {},
   "outputs": [],
   "source": []
  }
 ],
 "metadata": {
  "kernelspec": {
   "display_name": "Python 3 (ipykernel)",
   "language": "python",
   "name": "python3"
  },
  "language_info": {
   "codemirror_mode": {
    "name": "ipython",
    "version": 3
   },
   "file_extension": ".py",
   "mimetype": "text/x-python",
   "name": "python",
   "nbconvert_exporter": "python",
   "pygments_lexer": "ipython3",
   "version": "3.12.7"
  }
 },
 "nbformat": 4,
 "nbformat_minor": 5
}
