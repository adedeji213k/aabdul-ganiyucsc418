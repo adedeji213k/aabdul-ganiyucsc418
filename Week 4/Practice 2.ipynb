{
 "cells": [
  {
   "cell_type": "code",
   "execution_count": 2,
   "id": "9364720e-22f4-4d80-8535-30d4e56f6f3b",
   "metadata": {},
   "outputs": [
    {
     "ename": "error",
     "evalue": "OpenCV(4.10.0) C:\\b\\abs_e4cxka7_7g\\croot\\opencv-suite_1738943368733\\work\\modules\\imgproc\\src\\resize.cpp:4152: error: (-215:Assertion failed) !ssize.empty() in function 'cv::resize'\n",
     "output_type": "error",
     "traceback": [
      "\u001b[1;31m---------------------------------------------------------------------------\u001b[0m",
      "\u001b[1;31merror\u001b[0m                                     Traceback (most recent call last)",
      "Cell \u001b[1;32mIn[2], line 10\u001b[0m\n\u001b[0;32m      7\u001b[0m image \u001b[38;5;241m=\u001b[39m cv2\u001b[38;5;241m.\u001b[39mimread(\u001b[38;5;124m'\u001b[39m\u001b[38;5;124mimg/wole.jpg\u001b[39m\u001b[38;5;124m'\u001b[39m, cv2\u001b[38;5;241m.\u001b[39mIMREAD_GRAYSCALE)\n\u001b[0;32m      9\u001b[0m \u001b[38;5;66;03m# resize images\u001b[39;00m\n\u001b[1;32m---> 10\u001b[0m image \u001b[38;5;241m=\u001b[39m cv2\u001b[38;5;241m.\u001b[39mresize(image, (\u001b[38;5;241m500\u001b[39m,\u001b[38;5;241m400\u001b[39m))\n\u001b[0;32m     12\u001b[0m \u001b[38;5;66;03m# Define Prewitt Kernels\u001b[39;00m\n\u001b[0;32m     13\u001b[0m kernel_x \u001b[38;5;241m=\u001b[39m np\u001b[38;5;241m.\u001b[39marray([[\u001b[38;5;241m-\u001b[39m\u001b[38;5;241m1\u001b[39m, \u001b[38;5;241m-\u001b[39m\u001b[38;5;241m1\u001b[39m, \u001b[38;5;241m-\u001b[39m\u001b[38;5;241m1\u001b[39m],\n\u001b[0;32m     14\u001b[0m                      [ \u001b[38;5;241m0\u001b[39m,  \u001b[38;5;241m0\u001b[39m,  \u001b[38;5;241m0\u001b[39m],\n\u001b[0;32m     15\u001b[0m                      [ \u001b[38;5;241m1\u001b[39m,  \u001b[38;5;241m1\u001b[39m,  \u001b[38;5;241m1\u001b[39m]])\n",
      "\u001b[1;31merror\u001b[0m: OpenCV(4.10.0) C:\\b\\abs_e4cxka7_7g\\croot\\opencv-suite_1738943368733\\work\\modules\\imgproc\\src\\resize.cpp:4152: error: (-215:Assertion failed) !ssize.empty() in function 'cv::resize'\n"
     ]
    }
   ],
   "source": [
    "# Prewitt Edge Detection\n",
    "\n",
    "import cv2\n",
    "import numpy as np\n",
    "\n",
    "# Load the image\n",
    "image = cv2.imread('img/wole.jpg', cv2.IMREAD_GRAYSCALE)\n",
    "\n",
    "# resize images\n",
    "image = cv2.resize(image, (500,400))\n",
    "\n",
    "# Define Prewitt Kernels\n",
    "kernel_x = np.array([[-1, -1, -1],\n",
    "                     [ 0,  0,  0],\n",
    "                     [ 1,  1,  1]])\n",
    "\n",
    "kernel_y = np.array([[-1,  0,  1],\n",
    "                     [-1,  0,  1],\n",
    "                     [-1,  0,  1]])\n",
    "\n",
    "# Apply Prewitt edge detection\n",
    "prewitt_x = cv2.filter2D(image, -1, kernel_x)\n",
    "prewitt_y = cv2.filter2D(image, -1, kernel_y)\n",
    "\n",
    "# Compute magnitude of gradients manually\n",
    "prewitt_combined = np.sqrt(np.square(prewitt_x) + np.square(prewitt_y))\n",
    "\n",
    "# Display the original image and the Prewitt edges\n",
    "cv2.imshow('Original', image)\n",
    "cv2.imshow('Prewitt Edges', np.uint8(prewitt_combined))\n",
    "\n",
    "# Wait for a key press and close all windows\n",
    "cv2.waitKey(0)\n",
    "cv2.destroyAllWindows()"
   ]
  },
  {
   "cell_type": "code",
   "execution_count": null,
   "id": "5cc06084-8087-4f8a-be1b-221e753b1900",
   "metadata": {},
   "outputs": [],
   "source": []
  }
 ],
 "metadata": {
  "kernelspec": {
   "display_name": "Python 3 (ipykernel)",
   "language": "python",
   "name": "python3"
  },
  "language_info": {
   "codemirror_mode": {
    "name": "ipython",
    "version": 3
   },
   "file_extension": ".py",
   "mimetype": "text/x-python",
   "name": "python",
   "nbconvert_exporter": "python",
   "pygments_lexer": "ipython3",
   "version": "3.12.7"
  }
 },
 "nbformat": 4,
 "nbformat_minor": 5
}
