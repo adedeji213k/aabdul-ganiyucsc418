{
 "cells": [
  {
   "cell_type": "code",
   "execution_count": 2,
   "id": "2c25312a-1ca2-4f39-b2f6-3ad7be6ab882",
   "metadata": {},
   "outputs": [
    {
     "name": "stdout",
     "output_type": "stream",
     "text": [
      "Before Saving Image: \n",
      "['lagos.jpg']\n",
      "After Saving Image: \n",
      "['grayImage.jpg', 'lagos.jpg']\n",
      "Successfully Saved\n"
     ]
    }
   ],
   "source": [
    "import cv2\n",
    "\n",
    "import os\n",
    "\n",
    "image_path = r'C:\\Users\\Admin\\Documents\\CSC 418\\Week 1\\img\\lagos.jpg'\n",
    "\n",
    "directory = r'C:\\Users\\Admin\\Documents\\CSC 418\\Week 1\\img'\n",
    "\n",
    "img = cv2.imread(image_path, 0)\n",
    "\n",
    "os.chdir(directory)\n",
    "\n",
    "print('Before Saving Image: ')\n",
    "print(os.listdir(directory))\n",
    "\n",
    "filename = 'grayImage.jpg'\n",
    "\n",
    "cv2.imwrite(filename, img)\n",
    "\n",
    "print('After Saving Image: ')\n",
    "print(os.listdir(directory))\n",
    "\n",
    "print('Successfully Saved')"
   ]
  },
  {
   "cell_type": "code",
   "execution_count": null,
   "id": "14142dba-e609-4cd1-9043-d9308445a343",
   "metadata": {},
   "outputs": [],
   "source": []
  }
 ],
 "metadata": {
  "kernelspec": {
   "display_name": "Python 3 (ipykernel)",
   "language": "python",
   "name": "python3"
  },
  "language_info": {
   "codemirror_mode": {
    "name": "ipython",
    "version": 3
   },
   "file_extension": ".py",
   "mimetype": "text/x-python",
   "name": "python",
   "nbconvert_exporter": "python",
   "pygments_lexer": "ipython3",
   "version": "3.12.7"
  }
 },
 "nbformat": 4,
 "nbformat_minor": 5
}
